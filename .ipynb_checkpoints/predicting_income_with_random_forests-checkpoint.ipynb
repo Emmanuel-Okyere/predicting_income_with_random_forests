{
 "cells": [
  {
   "cell_type": "code",
   "execution_count": null,
   "id": "1a2e885e",
   "metadata": {},
   "outputs": [],
   "source": [
    "def warn(*args, **kwargs):\n",
    "    pass\n",
    "import warnings\n",
    "warnings.warn = warn\n",
    "\n",
    "import pandas as pd\n",
    "from sklearn.model_selection import train_test_split\n",
    "from sklearn import tree\n",
    "from sklearn.ensemble import RandomForestClassifier"
   ]
  },
  {
   "cell_type": "code",
   "execution_count": null,
   "id": "ba0a99ec",
   "metadata": {},
   "outputs": [],
   "source": [
    "income_data = pd.read_csv(\"income.csv\", header= 0, delimiter = \", \")\n",
    "print(income_data.iloc[0])"
   ]
  },
  {
   "cell_type": "code",
   "execution_count": null,
   "id": "cf909c95",
   "metadata": {},
   "outputs": [],
   "source": [
    "income_data[\"sex-int\"] = income_data[\"sex\"].apply(lambda x: 1 if x==\"Female\" else 0)"
   ]
  },
  {
   "cell_type": "code",
   "execution_count": null,
   "id": "d94da6ef",
   "metadata": {},
   "outputs": [],
   "source": [
    "income_data[\"country-int\"] = income_data[\"native-country\"].apply(lambda x: 0 if x==\"United-State\" else 1)\n",
    "labels = income_data[[\"income\"]]\n",
    "data = income_data[[\"age\",\"capital-gain\", \"capital-loss\", \"hours-per-week\", \"sex-int\", \"country-int\"]]"
   ]
  },
  {
   "cell_type": "code",
   "execution_count": null,
   "id": "88e669c9",
   "metadata": {},
   "outputs": [],
   "source": [
    "train_data, test_data, train_labels, test_labels = train_test_split(data, labels, train_size = 0.8, test_size = 0.2, random_state = 1)"
   ]
  },
  {
   "cell_type": "code",
   "execution_count": null,
   "id": "3b80a763",
   "metadata": {},
   "outputs": [],
   "source": [
    "forest = RandomForestClassifier(random_state =1)\n",
    "forest.fit(train_data,train_labels)"
   ]
  },
  {
   "cell_type": "code",
   "execution_count": null,
   "id": "20227a2e",
   "metadata": {},
   "outputs": [],
   "source": [
    "print(forest.score(test_data,test_labels))\n",
    "# print(income_data[\"native-country\"].value_counts())"
   ]
  }
 ],
 "metadata": {
  "kernelspec": {
   "display_name": "Python 3 (ipykernel)",
   "language": "python",
   "name": "python3"
  },
  "language_info": {
   "codemirror_mode": {
    "name": "ipython",
    "version": 3
   },
   "file_extension": ".py",
   "mimetype": "text/x-python",
   "name": "python",
   "nbconvert_exporter": "python",
   "pygments_lexer": "ipython3",
   "version": "3.9.7"
  }
 },
 "nbformat": 4,
 "nbformat_minor": 5
}
